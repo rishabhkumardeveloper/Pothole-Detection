{
 "cells": [
  {
   "cell_type": "code",
   "execution_count": 1,
   "id": "gross-shopping",
   "metadata": {},
   "outputs": [],
   "source": [
    "import pandas as pd \n",
    "df = pd.read_json(\"my-new-file-3.json\")\n",
    "t=\"index\"\n",
    "t+=df.to_csv()\n",
    "f = open(\"dataset.csv\", \"w\")\n",
    "f.write(t)\n",
    "f.close()\n",
    "t1=\"\"\n",
    "with open(\"dataset.csv\") as f:\n",
    "    for i, line in enumerate(f):\n",
    "         if i % 2 == 0:\n",
    "             t1+=line\n",
    "f = open(\"dataset.csv\", \"w\")\n",
    "f.write(t1)\n",
    "f.close()"
   ]
  },
  {
   "cell_type": "code",
   "execution_count": 2,
   "id": "described-campbell",
   "metadata": {},
   "outputs": [
    {
     "name": "stdout",
     "output_type": "stream",
     "text": [
      "Shape of training data : (128, 7)\n"
     ]
    },
    {
     "data": {
      "text/html": [
       "<div>\n",
       "<style scoped>\n",
       "    .dataframe tbody tr th:only-of-type {\n",
       "        vertical-align: middle;\n",
       "    }\n",
       "\n",
       "    .dataframe tbody tr th {\n",
       "        vertical-align: top;\n",
       "    }\n",
       "\n",
       "    .dataframe thead th {\n",
       "        text-align: right;\n",
       "    }\n",
       "</style>\n",
       "<table border=\"1\" class=\"dataframe\">\n",
       "  <thead>\n",
       "    <tr style=\"text-align: right;\">\n",
       "      <th></th>\n",
       "      <th>index</th>\n",
       "      <th>index.1</th>\n",
       "      <th>lat</th>\n",
       "      <th>longi</th>\n",
       "      <th>x</th>\n",
       "      <th>y</th>\n",
       "      <th>z</th>\n",
       "    </tr>\n",
       "  </thead>\n",
       "  <tbody>\n",
       "    <tr>\n",
       "      <th>0</th>\n",
       "      <td>0</td>\n",
       "      <td>1</td>\n",
       "      <td>28.514518</td>\n",
       "      <td>76.97149</td>\n",
       "      <td>0.139964</td>\n",
       "      <td>-0.012475</td>\n",
       "      <td>-0.127223</td>\n",
       "    </tr>\n",
       "    <tr>\n",
       "      <th>1</th>\n",
       "      <td>1</td>\n",
       "      <td>2</td>\n",
       "      <td>28.514518</td>\n",
       "      <td>76.97149</td>\n",
       "      <td>0.022969</td>\n",
       "      <td>0.045480</td>\n",
       "      <td>0.114396</td>\n",
       "    </tr>\n",
       "    <tr>\n",
       "      <th>2</th>\n",
       "      <td>2</td>\n",
       "      <td>3</td>\n",
       "      <td>28.514518</td>\n",
       "      <td>76.97149</td>\n",
       "      <td>0.022969</td>\n",
       "      <td>0.045480</td>\n",
       "      <td>0.114396</td>\n",
       "    </tr>\n",
       "    <tr>\n",
       "      <th>3</th>\n",
       "      <td>3</td>\n",
       "      <td>4</td>\n",
       "      <td>28.514518</td>\n",
       "      <td>76.97149</td>\n",
       "      <td>-0.104189</td>\n",
       "      <td>0.185730</td>\n",
       "      <td>0.130193</td>\n",
       "    </tr>\n",
       "    <tr>\n",
       "      <th>4</th>\n",
       "      <td>4</td>\n",
       "      <td>5</td>\n",
       "      <td>28.514518</td>\n",
       "      <td>76.97149</td>\n",
       "      <td>0.073729</td>\n",
       "      <td>-0.001592</td>\n",
       "      <td>0.022801</td>\n",
       "    </tr>\n",
       "    <tr>\n",
       "      <th>5</th>\n",
       "      <td>5</td>\n",
       "      <td>6</td>\n",
       "      <td>28.514518</td>\n",
       "      <td>76.97149</td>\n",
       "      <td>0.022845</td>\n",
       "      <td>-0.112512</td>\n",
       "      <td>-0.117148</td>\n",
       "    </tr>\n",
       "    <tr>\n",
       "      <th>6</th>\n",
       "      <td>6</td>\n",
       "      <td>7</td>\n",
       "      <td>28.514518</td>\n",
       "      <td>76.97149</td>\n",
       "      <td>0.147282</td>\n",
       "      <td>0.012838</td>\n",
       "      <td>0.060659</td>\n",
       "    </tr>\n",
       "    <tr>\n",
       "      <th>7</th>\n",
       "      <td>7</td>\n",
       "      <td>8</td>\n",
       "      <td>28.514518</td>\n",
       "      <td>76.97149</td>\n",
       "      <td>0.595585</td>\n",
       "      <td>0.317462</td>\n",
       "      <td>0.158895</td>\n",
       "    </tr>\n",
       "    <tr>\n",
       "      <th>8</th>\n",
       "      <td>8</td>\n",
       "      <td>9</td>\n",
       "      <td>28.514518</td>\n",
       "      <td>76.97149</td>\n",
       "      <td>0.210391</td>\n",
       "      <td>0.009767</td>\n",
       "      <td>-0.778993</td>\n",
       "    </tr>\n",
       "    <tr>\n",
       "      <th>9</th>\n",
       "      <td>9</td>\n",
       "      <td>10</td>\n",
       "      <td>28.514518</td>\n",
       "      <td>76.97149</td>\n",
       "      <td>0.475484</td>\n",
       "      <td>-0.419515</td>\n",
       "      <td>-0.809767</td>\n",
       "    </tr>\n",
       "    <tr>\n",
       "      <th>10</th>\n",
       "      <td>10</td>\n",
       "      <td>11</td>\n",
       "      <td>28.514518</td>\n",
       "      <td>76.97149</td>\n",
       "      <td>-4.927568</td>\n",
       "      <td>2.815220</td>\n",
       "      <td>0.568377</td>\n",
       "    </tr>\n",
       "    <tr>\n",
       "      <th>11</th>\n",
       "      <td>11</td>\n",
       "      <td>12</td>\n",
       "      <td>28.514518</td>\n",
       "      <td>76.97149</td>\n",
       "      <td>1.029765</td>\n",
       "      <td>-0.473591</td>\n",
       "      <td>-3.709145</td>\n",
       "    </tr>\n",
       "    <tr>\n",
       "      <th>12</th>\n",
       "      <td>12</td>\n",
       "      <td>13</td>\n",
       "      <td>28.514518</td>\n",
       "      <td>76.97149</td>\n",
       "      <td>1.322478</td>\n",
       "      <td>0.745824</td>\n",
       "      <td>-1.243300</td>\n",
       "    </tr>\n",
       "    <tr>\n",
       "      <th>13</th>\n",
       "      <td>13</td>\n",
       "      <td>14</td>\n",
       "      <td>28.514518</td>\n",
       "      <td>76.97149</td>\n",
       "      <td>0.786934</td>\n",
       "      <td>-1.969924</td>\n",
       "      <td>0.077217</td>\n",
       "    </tr>\n",
       "    <tr>\n",
       "      <th>14</th>\n",
       "      <td>14</td>\n",
       "      <td>15</td>\n",
       "      <td>28.514518</td>\n",
       "      <td>76.97149</td>\n",
       "      <td>0.486691</td>\n",
       "      <td>0.860203</td>\n",
       "      <td>-1.028347</td>\n",
       "    </tr>\n",
       "  </tbody>\n",
       "</table>\n",
       "</div>"
      ],
      "text/plain": [
       "    index  index.1        lat     longi         x         y         z\n",
       "0       0        1  28.514518  76.97149  0.139964 -0.012475 -0.127223\n",
       "1       1        2  28.514518  76.97149  0.022969  0.045480  0.114396\n",
       "2       2        3  28.514518  76.97149  0.022969  0.045480  0.114396\n",
       "3       3        4  28.514518  76.97149 -0.104189  0.185730  0.130193\n",
       "4       4        5  28.514518  76.97149  0.073729 -0.001592  0.022801\n",
       "5       5        6  28.514518  76.97149  0.022845 -0.112512 -0.117148\n",
       "6       6        7  28.514518  76.97149  0.147282  0.012838  0.060659\n",
       "7       7        8  28.514518  76.97149  0.595585  0.317462  0.158895\n",
       "8       8        9  28.514518  76.97149  0.210391  0.009767 -0.778993\n",
       "9       9       10  28.514518  76.97149  0.475484 -0.419515 -0.809767\n",
       "10     10       11  28.514518  76.97149 -4.927568  2.815220  0.568377\n",
       "11     11       12  28.514518  76.97149  1.029765 -0.473591 -3.709145\n",
       "12     12       13  28.514518  76.97149  1.322478  0.745824 -1.243300\n",
       "13     13       14  28.514518  76.97149  0.786934 -1.969924  0.077217\n",
       "14     14       15  28.514518  76.97149  0.486691  0.860203 -1.028347"
      ]
     },
     "execution_count": 2,
     "metadata": {},
     "output_type": "execute_result"
    }
   ],
   "source": [
    "import pandas as pd\n",
    "from sklearn.cluster import KMeans\n",
    "\n",
    "data = pd.read_csv('dataset.csv')\n",
    "\n",
    "# shape of the dataset\n",
    "print('Shape of training data :',data.shape)\n",
    "\n",
    "data.head(15)"
   ]
  },
  {
   "cell_type": "code",
   "execution_count": 3,
   "id": "short-wagon",
   "metadata": {},
   "outputs": [
    {
     "data": {
      "text/html": [
       "<div>\n",
       "<style scoped>\n",
       "    .dataframe tbody tr th:only-of-type {\n",
       "        vertical-align: middle;\n",
       "    }\n",
       "\n",
       "    .dataframe tbody tr th {\n",
       "        vertical-align: top;\n",
       "    }\n",
       "\n",
       "    .dataframe thead th {\n",
       "        text-align: right;\n",
       "    }\n",
       "</style>\n",
       "<table border=\"1\" class=\"dataframe\">\n",
       "  <thead>\n",
       "    <tr style=\"text-align: right;\">\n",
       "      <th></th>\n",
       "      <th>index</th>\n",
       "      <th>index.1</th>\n",
       "      <th>lat</th>\n",
       "      <th>longi</th>\n",
       "      <th>x</th>\n",
       "      <th>y</th>\n",
       "      <th>z</th>\n",
       "    </tr>\n",
       "  </thead>\n",
       "  <tbody>\n",
       "    <tr>\n",
       "      <th>0</th>\n",
       "      <td>0</td>\n",
       "      <td>1</td>\n",
       "      <td>28.514518</td>\n",
       "      <td>76.97149</td>\n",
       "      <td>0.139964</td>\n",
       "      <td>-0.012475</td>\n",
       "      <td>-0.127223</td>\n",
       "    </tr>\n",
       "    <tr>\n",
       "      <th>1</th>\n",
       "      <td>1</td>\n",
       "      <td>2</td>\n",
       "      <td>28.514518</td>\n",
       "      <td>76.97149</td>\n",
       "      <td>0.022969</td>\n",
       "      <td>0.045480</td>\n",
       "      <td>0.114396</td>\n",
       "    </tr>\n",
       "    <tr>\n",
       "      <th>2</th>\n",
       "      <td>2</td>\n",
       "      <td>3</td>\n",
       "      <td>28.514518</td>\n",
       "      <td>76.97149</td>\n",
       "      <td>0.022969</td>\n",
       "      <td>0.045480</td>\n",
       "      <td>0.114396</td>\n",
       "    </tr>\n",
       "    <tr>\n",
       "      <th>3</th>\n",
       "      <td>3</td>\n",
       "      <td>4</td>\n",
       "      <td>28.514518</td>\n",
       "      <td>76.97149</td>\n",
       "      <td>-0.104189</td>\n",
       "      <td>0.185730</td>\n",
       "      <td>0.130193</td>\n",
       "    </tr>\n",
       "    <tr>\n",
       "      <th>4</th>\n",
       "      <td>4</td>\n",
       "      <td>5</td>\n",
       "      <td>28.514518</td>\n",
       "      <td>76.97149</td>\n",
       "      <td>0.073729</td>\n",
       "      <td>-0.001592</td>\n",
       "      <td>0.022801</td>\n",
       "    </tr>\n",
       "  </tbody>\n",
       "</table>\n",
       "</div>"
      ],
      "text/plain": [
       "   index  index.1        lat     longi         x         y         z\n",
       "0      0        1  28.514518  76.97149  0.139964 -0.012475 -0.127223\n",
       "1      1        2  28.514518  76.97149  0.022969  0.045480  0.114396\n",
       "2      2        3  28.514518  76.97149  0.022969  0.045480  0.114396\n",
       "3      3        4  28.514518  76.97149 -0.104189  0.185730  0.130193\n",
       "4      4        5  28.514518  76.97149  0.073729 -0.001592  0.022801"
      ]
     },
     "execution_count": 3,
     "metadata": {},
     "output_type": "execute_result"
    }
   ],
   "source": [
    "df=pd.DataFrame(data)\n",
    "df.head()"
   ]
  },
  {
   "cell_type": "code",
   "execution_count": 4,
   "id": "inclusive-affiliate",
   "metadata": {},
   "outputs": [
    {
     "data": {
      "text/html": [
       "<div>\n",
       "<style scoped>\n",
       "    .dataframe tbody tr th:only-of-type {\n",
       "        vertical-align: middle;\n",
       "    }\n",
       "\n",
       "    .dataframe tbody tr th {\n",
       "        vertical-align: top;\n",
       "    }\n",
       "\n",
       "    .dataframe thead th {\n",
       "        text-align: right;\n",
       "    }\n",
       "</style>\n",
       "<table border=\"1\" class=\"dataframe\">\n",
       "  <thead>\n",
       "    <tr style=\"text-align: right;\">\n",
       "      <th></th>\n",
       "      <th>index</th>\n",
       "      <th>lat</th>\n",
       "      <th>longi</th>\n",
       "      <th>x</th>\n",
       "      <th>y</th>\n",
       "      <th>z</th>\n",
       "    </tr>\n",
       "  </thead>\n",
       "  <tbody>\n",
       "    <tr>\n",
       "      <th>0</th>\n",
       "      <td>0</td>\n",
       "      <td>28.514518</td>\n",
       "      <td>76.97149</td>\n",
       "      <td>0.139964</td>\n",
       "      <td>-0.012475</td>\n",
       "      <td>-0.127223</td>\n",
       "    </tr>\n",
       "    <tr>\n",
       "      <th>1</th>\n",
       "      <td>1</td>\n",
       "      <td>28.514518</td>\n",
       "      <td>76.97149</td>\n",
       "      <td>0.022969</td>\n",
       "      <td>0.045480</td>\n",
       "      <td>0.114396</td>\n",
       "    </tr>\n",
       "    <tr>\n",
       "      <th>2</th>\n",
       "      <td>2</td>\n",
       "      <td>28.514518</td>\n",
       "      <td>76.97149</td>\n",
       "      <td>0.022969</td>\n",
       "      <td>0.045480</td>\n",
       "      <td>0.114396</td>\n",
       "    </tr>\n",
       "    <tr>\n",
       "      <th>3</th>\n",
       "      <td>3</td>\n",
       "      <td>28.514518</td>\n",
       "      <td>76.97149</td>\n",
       "      <td>-0.104189</td>\n",
       "      <td>0.185730</td>\n",
       "      <td>0.130193</td>\n",
       "    </tr>\n",
       "    <tr>\n",
       "      <th>4</th>\n",
       "      <td>4</td>\n",
       "      <td>28.514518</td>\n",
       "      <td>76.97149</td>\n",
       "      <td>0.073729</td>\n",
       "      <td>-0.001592</td>\n",
       "      <td>0.022801</td>\n",
       "    </tr>\n",
       "  </tbody>\n",
       "</table>\n",
       "</div>"
      ],
      "text/plain": [
       "   index        lat     longi         x         y         z\n",
       "0      0  28.514518  76.97149  0.139964 -0.012475 -0.127223\n",
       "1      1  28.514518  76.97149  0.022969  0.045480  0.114396\n",
       "2      2  28.514518  76.97149  0.022969  0.045480  0.114396\n",
       "3      3  28.514518  76.97149 -0.104189  0.185730  0.130193\n",
       "4      4  28.514518  76.97149  0.073729 -0.001592  0.022801"
      ]
     },
     "execution_count": 4,
     "metadata": {},
     "output_type": "execute_result"
    }
   ],
   "source": [
    "del df[\"index.1\"]\n",
    "#del df[\"index\"]\n",
    "df.head()"
   ]
  },
  {
   "cell_type": "code",
   "execution_count": 5,
   "id": "coastal-flash",
   "metadata": {
    "scrolled": true
   },
   "outputs": [
    {
     "name": "stdout",
     "output_type": "stream",
     "text": [
      "[22, 23, 25, 28, 29, 36, 39, 40, 42, 43, 45, 46, 47, 52, 53, 58, 61, 63, 65, 69, 74, 76, 78, 80, 85, 86, 87, 90, 95, 96, 97, 99, 102, 107, 111, 112, 113, 118]\n"
     ]
    }
   ],
   "source": [
    "acc=9.81*0.4\n",
    "pothole=[]\n",
    "for index, row in df.iterrows():\n",
    "    if(row['z']> acc):\n",
    "        pothole.append(index)\n",
    "print(pothole)"
   ]
  },
  {
   "cell_type": "code",
   "execution_count": 6,
   "id": "mediterranean-brooks",
   "metadata": {
    "scrolled": true
   },
   "outputs": [
    {
     "name": "stdout",
     "output_type": "stream",
     "text": [
      "22\n",
      "[22, 23, 28, 29, 39, 40, 42, 43, 45, 46, 47, 52, 53, 85, 86, 87, 95, 96, 97, 111, 112, 113]\n"
     ]
    }
   ],
   "source": [
    "possible_potholes=[]\n",
    "for i in pothole:\n",
    "    j=i+1\n",
    "    for k in pothole:\n",
    "        if(j==k):\n",
    "            #print(k)\n",
    "            possible_potholes.append(j-1)\n",
    "            possible_potholes.append(j)\n",
    "            j=j+1\n",
    "pothole_final=(list(set(possible_potholes)))\n",
    "pothole_final.sort()\n",
    "print(len(pothole_final))\n",
    "print(pothole_final)"
   ]
  },
  {
   "cell_type": "markdown",
   "id": "frequent-amino",
   "metadata": {},
   "source": [
    "# FINAL POTHOLE"
   ]
  },
  {
   "cell_type": "code",
   "execution_count": 7,
   "id": "romance-baseline",
   "metadata": {},
   "outputs": [
    {
     "name": "stdout",
     "output_type": "stream",
     "text": [
      "[23, 29, 40, 43, 47, 53, 87, 97, 113]\n"
     ]
    }
   ],
   "source": [
    "lat_final=[]\n",
    "longi_final=[]\n",
    "length=len(pothole_final)\n",
    "index_final=[]\n",
    "v=pothole_final[length-1]+1\n",
    "pothole_final.append(v)\n",
    "length=len(pothole_final)\n",
    "for i in range (length):\n",
    "    t=(pothole_final[i])-1\n",
    "    if((df.iloc[t].z)<(df.iloc[t+1].z)):\n",
    "        y=i\n",
    "        #t1= (pothole_final[y+1])-pothole_final[y]\n",
    "        while((pothole_final[y+1]-pothole_final[y])==1 and y+1<length-1):\n",
    "            y=y+1\n",
    "        #print(y)\n",
    "        t=pothole_final[y]+1\n",
    "        if((df.iloc[t].z<df.iloc[t-1].z)):\n",
    "            lat_final.append(df.iloc[t-1].lat)\n",
    "            longi_final.append(df.iloc[t-1].longi)\n",
    "            index_final.append(t-1)\n",
    "            \n",
    "            #print('Pothole Detected')\n",
    "pothole_final.pop()\n",
    "index_pothole=list(set(index_final))\n",
    "index_pothole.sort()\n",
    "print(index_pothole)"
   ]
  },
  {
   "cell_type": "markdown",
   "id": "patient-fireplace",
   "metadata": {},
   "source": [
    "# SMS Sending Part "
   ]
  },
  {
   "cell_type": "code",
   "execution_count": 8,
   "id": "dense-casino",
   "metadata": {},
   "outputs": [
    {
     "data": {
      "text/plain": [
       "'\\nfrom boltiot import Sms, Bolt\\nSID = \\'AC9cf827f15186dcdfb6e6a8d7e74793cc\\' \\nAUTH_TOKEN = \\'03d4ad1075d408e009aec2c6a3ea49ad\\' \\nFROM_NUMBER = \\'+18323532587\\'\\nTO_NUMBER = \\'+919521153638\\'\\n\\nsms = Sms(SID, AUTH_TOKEN, TO_NUMBER, FROM_NUMBER)\\ns=\"The following Pothole Latitude & Longitude have been detected:\"\\nl=len(longi_final)\\nfor i in range (l):\\n    s+=\"(\"\\n    s+=str(lat_final[i])\\n    s+=\",\"\\n    s+=str(longi_final[i])\\n    s+=\")\"\\nprint(s)\\nresponse = sms.send_sms(s)\\n'"
      ]
     },
     "execution_count": 8,
     "metadata": {},
     "output_type": "execute_result"
    }
   ],
   "source": [
    "'''\n",
    "from boltiot import Sms, Bolt\n",
    "SID = 'AC9cf827f15186dcdfb6e6a8d7e74793cc' \n",
    "AUTH_TOKEN = '03d4ad1075d408e009aec2c6a3ea49ad' \n",
    "FROM_NUMBER = '+18323532587'\n",
    "TO_NUMBER = '+919521153638'\n",
    "\n",
    "sms = Sms(SID, AUTH_TOKEN, TO_NUMBER, FROM_NUMBER)\n",
    "s=\"The following Pothole Latitude & Longitude have been detected:\"\n",
    "l=len(longi_final)\n",
    "for i in range (l):\n",
    "    s+=\"(\"\n",
    "    s+=str(lat_final[i])\n",
    "    s+=\",\"\n",
    "    s+=str(longi_final[i])\n",
    "    s+=\")\"\n",
    "print(s)\n",
    "response = sms.send_sms(s)\n",
    "'''"
   ]
  },
  {
   "cell_type": "code",
   "execution_count": 11,
   "id": "asian-local",
   "metadata": {},
   "outputs": [
    {
     "name": "stdout",
     "output_type": "stream",
     "text": [
      "[23.30795669555664, 18.075634002685547, 54.468017578125, 6.019819259643555, 42.36439895629883, 25.58806037902832, 46.01388931274414, 39.35448455810547, 44.550819396972656]\n",
      "9\n"
     ]
    }
   ],
   "source": [
    "c=0\n",
    "plot_z_final=[]\n",
    "for i, row in df.iterrows():\n",
    "    if(c<len(index_pothole)):\n",
    "        d=index_pothole[c]\n",
    "        if(i==d):\n",
    "            c=c+1\n",
    "            #print('I am at c:',c-1)\n",
    "            #print(row['z'])\n",
    "            plot_z_final.append(row['z'])\n",
    "print((plot_z_final))\n",
    "print(len(plot_z_final))"
   ]
  },
  {
   "cell_type": "code",
   "execution_count": 15,
   "id": "increased-rings",
   "metadata": {},
   "outputs": [
    {
     "data": {
      "application/vnd.plotly.v1+json": {
       "config": {
        "plotlyServerURL": "https://plot.ly"
       },
       "data": [
        {
         "type": "scatter",
         "x": [
          0,
          1,
          2,
          3,
          4,
          5,
          6,
          7,
          8,
          9,
          10,
          11,
          12,
          13,
          14,
          15,
          16,
          17,
          18,
          19,
          20,
          21,
          22,
          23,
          24,
          25,
          26,
          27,
          28,
          29,
          30,
          31,
          32,
          33,
          34,
          35,
          36,
          37,
          38,
          39,
          40,
          41,
          42,
          43,
          44,
          45,
          46,
          47,
          48,
          49,
          50,
          51,
          52,
          53,
          54,
          55,
          56,
          57,
          58,
          59,
          60,
          61,
          62,
          63,
          64,
          65,
          66,
          67,
          68,
          69,
          70,
          71,
          72,
          73,
          74,
          75,
          76,
          77,
          78,
          79,
          80,
          81,
          82,
          83,
          84,
          85,
          86,
          87,
          88,
          89,
          90,
          91,
          92,
          93,
          94,
          95,
          96,
          97,
          98,
          99,
          100,
          101,
          102,
          103,
          104,
          105,
          106,
          107,
          108,
          109,
          110,
          111,
          112,
          113,
          114,
          115,
          116,
          117,
          118,
          119,
          120,
          121,
          122,
          123,
          124,
          125,
          126,
          127
         ],
         "y": [
          -0.127223014831542,
          0.114396095275878,
          0.114396095275878,
          0.130192756652832,
          0.022801399230957,
          -0.117148399353027,
          0.060659408569335,
          0.158894538879394,
          -0.7789926528930661,
          -0.809766769409179,
          0.568377494812011,
          -3.709145069122314,
          -1.243300437927246,
          0.077217102050781,
          -1.028347015380859,
          1.12423038482666,
          -1.700033187866211,
          -1.700033187866211,
          -2.097153425216675,
          3.056239604949951,
          -3.015564918518066,
          2.509795188903808,
          23.30795669555664,
          23.30795669555664,
          -16.21031379699707,
          9.378643035888672,
          -16.366655349731445,
          -16.366655349731445,
          18.075634002685547,
          18.075634002685547,
          -13.24616241455078,
          -13.24616241455078,
          -13.24616241455078,
          -13.24616241455078,
          -31.89609909057617,
          -31.89609909057617,
          46.10057067871094,
          -34.80790710449219,
          -34.80790710449219,
          54.468017578125,
          54.468017578125,
          -21.342960357666016,
          6.019819259643555,
          6.019819259643555,
          -27.768251419067383,
          42.36439895629883,
          42.36439895629883,
          42.36439895629883,
          -22.490928649902344,
          -2.695121765136718,
          3.012779235839843,
          -26.66602325439453,
          52.80860900878906,
          25.58806037902832,
          -23.70743560791016,
          -23.70743560791016,
          -3.224334716796875,
          -2.964866638183593,
          46.09584045410156,
          -32.391841888427734,
          -32.391841888427734,
          46.747501373291016,
          -33.750343322753906,
          60.237037658691406,
          -31.141162872314453,
          40.08600616455078,
          -29.089073181152344,
          -21.76808357238769,
          -21.76808357238769,
          24.615692138671875,
          3.573541641235351,
          1.5171546936035152,
          1.5171546936035152,
          -7.639298439025879,
          31.911422729492188,
          -23.176544189453125,
          48.69287490844727,
          -18.328155517578125,
          43.557010650634766,
          -23.673118591308597,
          12.390326499938965,
          -20.15449905395508,
          -20.696887969970703,
          -20.696887969970703,
          -20.696887969970703,
          18.53797149658203,
          46.01388931274414,
          46.01388931274414,
          -25.881044387817383,
          -28.75888442993164,
          8.71220874786377,
          -26.75641250610352,
          1.475307464599609,
          -15.71409034729004,
          -9.879613876342772,
          31.35751724243164,
          31.35751724243164,
          39.35448455810547,
          -28.69304084777832,
          10.317176818847656,
          -24.616554260253903,
          -24.616554260253903,
          43.83203887939453,
          -37.83050155639648,
          -37.83050155639648,
          -31.87122917175293,
          -31.87122917175293,
          14.465906143188477,
          -26.95709609985352,
          -2.170404434204101,
          -3.287799835205078,
          27.87232208251953,
          27.87232208251953,
          44.550819396972656,
          -21.433380126953125,
          -21.433380126953125,
          -21.433380126953125,
          -21.433380126953125,
          11.955175399780272,
          1.8706083297729488,
          -3.723387241363525,
          -3.723387241363525,
          -3.058729410171509,
          1.320510387420654,
          0.376310348510742,
          -0.003825187683105,
          -0.003825187683105,
          0.7857694625854491
         ]
        },
        {
         "mode": "lines+markers",
         "name": "Pothole Detected",
         "type": "scatter",
         "x": [
          23,
          29,
          40,
          43,
          47,
          53,
          87,
          97,
          113
         ],
         "y": [
          23.30795669555664,
          18.075634002685547,
          54.468017578125,
          6.019819259643555,
          42.36439895629883,
          25.58806037902832,
          46.01388931274414,
          39.35448455810547,
          44.550819396972656
         ]
        }
       ],
       "layout": {
        "shapes": [
         {
          "line": {
           "color": "Red"
          },
          "type": "line",
          "x0": 0,
          "x1": 128,
          "y0": 3.9240000000000004,
          "y1": 3.9240000000000004
         }
        ],
        "template": {
         "data": {
          "bar": [
           {
            "error_x": {
             "color": "#2a3f5f"
            },
            "error_y": {
             "color": "#2a3f5f"
            },
            "marker": {
             "line": {
              "color": "#E5ECF6",
              "width": 0.5
             }
            },
            "type": "bar"
           }
          ],
          "barpolar": [
           {
            "marker": {
             "line": {
              "color": "#E5ECF6",
              "width": 0.5
             }
            },
            "type": "barpolar"
           }
          ],
          "carpet": [
           {
            "aaxis": {
             "endlinecolor": "#2a3f5f",
             "gridcolor": "white",
             "linecolor": "white",
             "minorgridcolor": "white",
             "startlinecolor": "#2a3f5f"
            },
            "baxis": {
             "endlinecolor": "#2a3f5f",
             "gridcolor": "white",
             "linecolor": "white",
             "minorgridcolor": "white",
             "startlinecolor": "#2a3f5f"
            },
            "type": "carpet"
           }
          ],
          "choropleth": [
           {
            "colorbar": {
             "outlinewidth": 0,
             "ticks": ""
            },
            "type": "choropleth"
           }
          ],
          "contour": [
           {
            "colorbar": {
             "outlinewidth": 0,
             "ticks": ""
            },
            "colorscale": [
             [
              0,
              "#0d0887"
             ],
             [
              0.1111111111111111,
              "#46039f"
             ],
             [
              0.2222222222222222,
              "#7201a8"
             ],
             [
              0.3333333333333333,
              "#9c179e"
             ],
             [
              0.4444444444444444,
              "#bd3786"
             ],
             [
              0.5555555555555556,
              "#d8576b"
             ],
             [
              0.6666666666666666,
              "#ed7953"
             ],
             [
              0.7777777777777778,
              "#fb9f3a"
             ],
             [
              0.8888888888888888,
              "#fdca26"
             ],
             [
              1,
              "#f0f921"
             ]
            ],
            "type": "contour"
           }
          ],
          "contourcarpet": [
           {
            "colorbar": {
             "outlinewidth": 0,
             "ticks": ""
            },
            "type": "contourcarpet"
           }
          ],
          "heatmap": [
           {
            "colorbar": {
             "outlinewidth": 0,
             "ticks": ""
            },
            "colorscale": [
             [
              0,
              "#0d0887"
             ],
             [
              0.1111111111111111,
              "#46039f"
             ],
             [
              0.2222222222222222,
              "#7201a8"
             ],
             [
              0.3333333333333333,
              "#9c179e"
             ],
             [
              0.4444444444444444,
              "#bd3786"
             ],
             [
              0.5555555555555556,
              "#d8576b"
             ],
             [
              0.6666666666666666,
              "#ed7953"
             ],
             [
              0.7777777777777778,
              "#fb9f3a"
             ],
             [
              0.8888888888888888,
              "#fdca26"
             ],
             [
              1,
              "#f0f921"
             ]
            ],
            "type": "heatmap"
           }
          ],
          "heatmapgl": [
           {
            "colorbar": {
             "outlinewidth": 0,
             "ticks": ""
            },
            "colorscale": [
             [
              0,
              "#0d0887"
             ],
             [
              0.1111111111111111,
              "#46039f"
             ],
             [
              0.2222222222222222,
              "#7201a8"
             ],
             [
              0.3333333333333333,
              "#9c179e"
             ],
             [
              0.4444444444444444,
              "#bd3786"
             ],
             [
              0.5555555555555556,
              "#d8576b"
             ],
             [
              0.6666666666666666,
              "#ed7953"
             ],
             [
              0.7777777777777778,
              "#fb9f3a"
             ],
             [
              0.8888888888888888,
              "#fdca26"
             ],
             [
              1,
              "#f0f921"
             ]
            ],
            "type": "heatmapgl"
           }
          ],
          "histogram": [
           {
            "marker": {
             "colorbar": {
              "outlinewidth": 0,
              "ticks": ""
             }
            },
            "type": "histogram"
           }
          ],
          "histogram2d": [
           {
            "colorbar": {
             "outlinewidth": 0,
             "ticks": ""
            },
            "colorscale": [
             [
              0,
              "#0d0887"
             ],
             [
              0.1111111111111111,
              "#46039f"
             ],
             [
              0.2222222222222222,
              "#7201a8"
             ],
             [
              0.3333333333333333,
              "#9c179e"
             ],
             [
              0.4444444444444444,
              "#bd3786"
             ],
             [
              0.5555555555555556,
              "#d8576b"
             ],
             [
              0.6666666666666666,
              "#ed7953"
             ],
             [
              0.7777777777777778,
              "#fb9f3a"
             ],
             [
              0.8888888888888888,
              "#fdca26"
             ],
             [
              1,
              "#f0f921"
             ]
            ],
            "type": "histogram2d"
           }
          ],
          "histogram2dcontour": [
           {
            "colorbar": {
             "outlinewidth": 0,
             "ticks": ""
            },
            "colorscale": [
             [
              0,
              "#0d0887"
             ],
             [
              0.1111111111111111,
              "#46039f"
             ],
             [
              0.2222222222222222,
              "#7201a8"
             ],
             [
              0.3333333333333333,
              "#9c179e"
             ],
             [
              0.4444444444444444,
              "#bd3786"
             ],
             [
              0.5555555555555556,
              "#d8576b"
             ],
             [
              0.6666666666666666,
              "#ed7953"
             ],
             [
              0.7777777777777778,
              "#fb9f3a"
             ],
             [
              0.8888888888888888,
              "#fdca26"
             ],
             [
              1,
              "#f0f921"
             ]
            ],
            "type": "histogram2dcontour"
           }
          ],
          "mesh3d": [
           {
            "colorbar": {
             "outlinewidth": 0,
             "ticks": ""
            },
            "type": "mesh3d"
           }
          ],
          "parcoords": [
           {
            "line": {
             "colorbar": {
              "outlinewidth": 0,
              "ticks": ""
             }
            },
            "type": "parcoords"
           }
          ],
          "pie": [
           {
            "automargin": true,
            "type": "pie"
           }
          ],
          "scatter": [
           {
            "marker": {
             "colorbar": {
              "outlinewidth": 0,
              "ticks": ""
             }
            },
            "type": "scatter"
           }
          ],
          "scatter3d": [
           {
            "line": {
             "colorbar": {
              "outlinewidth": 0,
              "ticks": ""
             }
            },
            "marker": {
             "colorbar": {
              "outlinewidth": 0,
              "ticks": ""
             }
            },
            "type": "scatter3d"
           }
          ],
          "scattercarpet": [
           {
            "marker": {
             "colorbar": {
              "outlinewidth": 0,
              "ticks": ""
             }
            },
            "type": "scattercarpet"
           }
          ],
          "scattergeo": [
           {
            "marker": {
             "colorbar": {
              "outlinewidth": 0,
              "ticks": ""
             }
            },
            "type": "scattergeo"
           }
          ],
          "scattergl": [
           {
            "marker": {
             "colorbar": {
              "outlinewidth": 0,
              "ticks": ""
             }
            },
            "type": "scattergl"
           }
          ],
          "scattermapbox": [
           {
            "marker": {
             "colorbar": {
              "outlinewidth": 0,
              "ticks": ""
             }
            },
            "type": "scattermapbox"
           }
          ],
          "scatterpolar": [
           {
            "marker": {
             "colorbar": {
              "outlinewidth": 0,
              "ticks": ""
             }
            },
            "type": "scatterpolar"
           }
          ],
          "scatterpolargl": [
           {
            "marker": {
             "colorbar": {
              "outlinewidth": 0,
              "ticks": ""
             }
            },
            "type": "scatterpolargl"
           }
          ],
          "scatterternary": [
           {
            "marker": {
             "colorbar": {
              "outlinewidth": 0,
              "ticks": ""
             }
            },
            "type": "scatterternary"
           }
          ],
          "surface": [
           {
            "colorbar": {
             "outlinewidth": 0,
             "ticks": ""
            },
            "colorscale": [
             [
              0,
              "#0d0887"
             ],
             [
              0.1111111111111111,
              "#46039f"
             ],
             [
              0.2222222222222222,
              "#7201a8"
             ],
             [
              0.3333333333333333,
              "#9c179e"
             ],
             [
              0.4444444444444444,
              "#bd3786"
             ],
             [
              0.5555555555555556,
              "#d8576b"
             ],
             [
              0.6666666666666666,
              "#ed7953"
             ],
             [
              0.7777777777777778,
              "#fb9f3a"
             ],
             [
              0.8888888888888888,
              "#fdca26"
             ],
             [
              1,
              "#f0f921"
             ]
            ],
            "type": "surface"
           }
          ],
          "table": [
           {
            "cells": {
             "fill": {
              "color": "#EBF0F8"
             },
             "line": {
              "color": "white"
             }
            },
            "header": {
             "fill": {
              "color": "#C8D4E3"
             },
             "line": {
              "color": "white"
             }
            },
            "type": "table"
           }
          ]
         },
         "layout": {
          "annotationdefaults": {
           "arrowcolor": "#2a3f5f",
           "arrowhead": 0,
           "arrowwidth": 1
          },
          "autotypenumbers": "strict",
          "coloraxis": {
           "colorbar": {
            "outlinewidth": 0,
            "ticks": ""
           }
          },
          "colorscale": {
           "diverging": [
            [
             0,
             "#8e0152"
            ],
            [
             0.1,
             "#c51b7d"
            ],
            [
             0.2,
             "#de77ae"
            ],
            [
             0.3,
             "#f1b6da"
            ],
            [
             0.4,
             "#fde0ef"
            ],
            [
             0.5,
             "#f7f7f7"
            ],
            [
             0.6,
             "#e6f5d0"
            ],
            [
             0.7,
             "#b8e186"
            ],
            [
             0.8,
             "#7fbc41"
            ],
            [
             0.9,
             "#4d9221"
            ],
            [
             1,
             "#276419"
            ]
           ],
           "sequential": [
            [
             0,
             "#0d0887"
            ],
            [
             0.1111111111111111,
             "#46039f"
            ],
            [
             0.2222222222222222,
             "#7201a8"
            ],
            [
             0.3333333333333333,
             "#9c179e"
            ],
            [
             0.4444444444444444,
             "#bd3786"
            ],
            [
             0.5555555555555556,
             "#d8576b"
            ],
            [
             0.6666666666666666,
             "#ed7953"
            ],
            [
             0.7777777777777778,
             "#fb9f3a"
            ],
            [
             0.8888888888888888,
             "#fdca26"
            ],
            [
             1,
             "#f0f921"
            ]
           ],
           "sequentialminus": [
            [
             0,
             "#0d0887"
            ],
            [
             0.1111111111111111,
             "#46039f"
            ],
            [
             0.2222222222222222,
             "#7201a8"
            ],
            [
             0.3333333333333333,
             "#9c179e"
            ],
            [
             0.4444444444444444,
             "#bd3786"
            ],
            [
             0.5555555555555556,
             "#d8576b"
            ],
            [
             0.6666666666666666,
             "#ed7953"
            ],
            [
             0.7777777777777778,
             "#fb9f3a"
            ],
            [
             0.8888888888888888,
             "#fdca26"
            ],
            [
             1,
             "#f0f921"
            ]
           ]
          },
          "colorway": [
           "#636efa",
           "#EF553B",
           "#00cc96",
           "#ab63fa",
           "#FFA15A",
           "#19d3f3",
           "#FF6692",
           "#B6E880",
           "#FF97FF",
           "#FECB52"
          ],
          "font": {
           "color": "#2a3f5f"
          },
          "geo": {
           "bgcolor": "white",
           "lakecolor": "white",
           "landcolor": "#E5ECF6",
           "showlakes": true,
           "showland": true,
           "subunitcolor": "white"
          },
          "hoverlabel": {
           "align": "left"
          },
          "hovermode": "closest",
          "mapbox": {
           "style": "light"
          },
          "paper_bgcolor": "white",
          "plot_bgcolor": "#E5ECF6",
          "polar": {
           "angularaxis": {
            "gridcolor": "white",
            "linecolor": "white",
            "ticks": ""
           },
           "bgcolor": "#E5ECF6",
           "radialaxis": {
            "gridcolor": "white",
            "linecolor": "white",
            "ticks": ""
           }
          },
          "scene": {
           "xaxis": {
            "backgroundcolor": "#E5ECF6",
            "gridcolor": "white",
            "gridwidth": 2,
            "linecolor": "white",
            "showbackground": true,
            "ticks": "",
            "zerolinecolor": "white"
           },
           "yaxis": {
            "backgroundcolor": "#E5ECF6",
            "gridcolor": "white",
            "gridwidth": 2,
            "linecolor": "white",
            "showbackground": true,
            "ticks": "",
            "zerolinecolor": "white"
           },
           "zaxis": {
            "backgroundcolor": "#E5ECF6",
            "gridcolor": "white",
            "gridwidth": 2,
            "linecolor": "white",
            "showbackground": true,
            "ticks": "",
            "zerolinecolor": "white"
           }
          },
          "shapedefaults": {
           "line": {
            "color": "#2a3f5f"
           }
          },
          "ternary": {
           "aaxis": {
            "gridcolor": "white",
            "linecolor": "white",
            "ticks": ""
           },
           "baxis": {
            "gridcolor": "white",
            "linecolor": "white",
            "ticks": ""
           },
           "bgcolor": "#E5ECF6",
           "caxis": {
            "gridcolor": "white",
            "linecolor": "white",
            "ticks": ""
           }
          },
          "title": {
           "x": 0.05
          },
          "xaxis": {
           "automargin": true,
           "gridcolor": "white",
           "linecolor": "white",
           "ticks": "",
           "title": {
            "standoff": 15
           },
           "zerolinecolor": "white",
           "zerolinewidth": 2
          },
          "yaxis": {
           "automargin": true,
           "gridcolor": "white",
           "linecolor": "white",
           "ticks": "",
           "title": {
            "standoff": 15
           },
           "zerolinecolor": "white",
           "zerolinewidth": 2
          }
         }
        },
        "title": {
         "text": "Accelerometer Reading (Z Axis ) V/S Time"
        },
        "xaxis": {
         "title": {
          "text": "Time"
         }
        },
        "yaxis": {
         "title": {
          "text": "Accelerometer"
         }
        }
       }
      },
      "text/html": [
       "<div>                            <div id=\"f62ba24e-d4f6-4c56-8dcf-3ce32c7b1d98\" class=\"plotly-graph-div\" style=\"height:525px; width:100%;\"></div>            <script type=\"text/javascript\">                require([\"plotly\"], function(Plotly) {                    window.PLOTLYENV=window.PLOTLYENV || {};                                    if (document.getElementById(\"f62ba24e-d4f6-4c56-8dcf-3ce32c7b1d98\")) {                    Plotly.newPlot(                        \"f62ba24e-d4f6-4c56-8dcf-3ce32c7b1d98\",                        [{\"type\": \"scatter\", \"x\": [0, 1, 2, 3, 4, 5, 6, 7, 8, 9, 10, 11, 12, 13, 14, 15, 16, 17, 18, 19, 20, 21, 22, 23, 24, 25, 26, 27, 28, 29, 30, 31, 32, 33, 34, 35, 36, 37, 38, 39, 40, 41, 42, 43, 44, 45, 46, 47, 48, 49, 50, 51, 52, 53, 54, 55, 56, 57, 58, 59, 60, 61, 62, 63, 64, 65, 66, 67, 68, 69, 70, 71, 72, 73, 74, 75, 76, 77, 78, 79, 80, 81, 82, 83, 84, 85, 86, 87, 88, 89, 90, 91, 92, 93, 94, 95, 96, 97, 98, 99, 100, 101, 102, 103, 104, 105, 106, 107, 108, 109, 110, 111, 112, 113, 114, 115, 116, 117, 118, 119, 120, 121, 122, 123, 124, 125, 126, 127], \"y\": [-0.127223014831542, 0.114396095275878, 0.114396095275878, 0.130192756652832, 0.022801399230957, -0.117148399353027, 0.060659408569335, 0.158894538879394, -0.7789926528930661, -0.809766769409179, 0.568377494812011, -3.709145069122314, -1.243300437927246, 0.077217102050781, -1.028347015380859, 1.12423038482666, -1.700033187866211, -1.700033187866211, -2.097153425216675, 3.056239604949951, -3.015564918518066, 2.509795188903808, 23.30795669555664, 23.30795669555664, -16.21031379699707, 9.378643035888672, -16.366655349731445, -16.366655349731445, 18.075634002685547, 18.075634002685547, -13.24616241455078, -13.24616241455078, -13.24616241455078, -13.24616241455078, -31.89609909057617, -31.89609909057617, 46.10057067871094, -34.80790710449219, -34.80790710449219, 54.468017578125, 54.468017578125, -21.342960357666016, 6.019819259643555, 6.019819259643555, -27.768251419067383, 42.36439895629883, 42.36439895629883, 42.36439895629883, -22.490928649902344, -2.695121765136718, 3.012779235839843, -26.66602325439453, 52.80860900878906, 25.58806037902832, -23.70743560791016, -23.70743560791016, -3.224334716796875, -2.964866638183593, 46.09584045410156, -32.391841888427734, -32.391841888427734, 46.747501373291016, -33.750343322753906, 60.237037658691406, -31.141162872314453, 40.08600616455078, -29.089073181152344, -21.76808357238769, -21.76808357238769, 24.615692138671875, 3.573541641235351, 1.5171546936035152, 1.5171546936035152, -7.639298439025879, 31.911422729492188, -23.176544189453125, 48.69287490844727, -18.328155517578125, 43.557010650634766, -23.673118591308597, 12.390326499938965, -20.15449905395508, -20.696887969970703, -20.696887969970703, -20.696887969970703, 18.53797149658203, 46.01388931274414, 46.01388931274414, -25.881044387817383, -28.75888442993164, 8.71220874786377, -26.75641250610352, 1.475307464599609, -15.71409034729004, -9.879613876342772, 31.35751724243164, 31.35751724243164, 39.35448455810547, -28.69304084777832, 10.317176818847656, -24.616554260253903, -24.616554260253903, 43.83203887939453, -37.83050155639648, -37.83050155639648, -31.87122917175293, -31.87122917175293, 14.465906143188477, -26.95709609985352, -2.170404434204101, -3.287799835205078, 27.87232208251953, 27.87232208251953, 44.550819396972656, -21.433380126953125, -21.433380126953125, -21.433380126953125, -21.433380126953125, 11.955175399780272, 1.8706083297729488, -3.723387241363525, -3.723387241363525, -3.058729410171509, 1.320510387420654, 0.376310348510742, -0.003825187683105, -0.003825187683105, 0.7857694625854491]}, {\"mode\": \"lines+markers\", \"name\": \"Pothole Detected\", \"type\": \"scatter\", \"x\": [23, 29, 40, 43, 47, 53, 87, 97, 113], \"y\": [23.30795669555664, 18.075634002685547, 54.468017578125, 6.019819259643555, 42.36439895629883, 25.58806037902832, 46.01388931274414, 39.35448455810547, 44.550819396972656]}],                        {\"shapes\": [{\"line\": {\"color\": \"Red\"}, \"type\": \"line\", \"x0\": 0, \"x1\": 128, \"y0\": 3.9240000000000004, \"y1\": 3.9240000000000004}], \"template\": {\"data\": {\"bar\": [{\"error_x\": {\"color\": \"#2a3f5f\"}, \"error_y\": {\"color\": \"#2a3f5f\"}, \"marker\": {\"line\": {\"color\": \"#E5ECF6\", \"width\": 0.5}}, \"type\": \"bar\"}], \"barpolar\": [{\"marker\": {\"line\": {\"color\": \"#E5ECF6\", \"width\": 0.5}}, \"type\": \"barpolar\"}], \"carpet\": [{\"aaxis\": {\"endlinecolor\": \"#2a3f5f\", \"gridcolor\": \"white\", \"linecolor\": \"white\", \"minorgridcolor\": \"white\", \"startlinecolor\": \"#2a3f5f\"}, \"baxis\": {\"endlinecolor\": \"#2a3f5f\", \"gridcolor\": \"white\", \"linecolor\": \"white\", \"minorgridcolor\": \"white\", \"startlinecolor\": \"#2a3f5f\"}, \"type\": \"carpet\"}], \"choropleth\": [{\"colorbar\": {\"outlinewidth\": 0, \"ticks\": \"\"}, \"type\": \"choropleth\"}], \"contour\": [{\"colorbar\": {\"outlinewidth\": 0, \"ticks\": \"\"}, \"colorscale\": [[0.0, \"#0d0887\"], [0.1111111111111111, \"#46039f\"], [0.2222222222222222, \"#7201a8\"], [0.3333333333333333, \"#9c179e\"], [0.4444444444444444, \"#bd3786\"], [0.5555555555555556, \"#d8576b\"], [0.6666666666666666, \"#ed7953\"], [0.7777777777777778, \"#fb9f3a\"], [0.8888888888888888, \"#fdca26\"], [1.0, \"#f0f921\"]], \"type\": \"contour\"}], \"contourcarpet\": [{\"colorbar\": {\"outlinewidth\": 0, \"ticks\": \"\"}, \"type\": \"contourcarpet\"}], \"heatmap\": [{\"colorbar\": {\"outlinewidth\": 0, \"ticks\": \"\"}, \"colorscale\": [[0.0, \"#0d0887\"], [0.1111111111111111, \"#46039f\"], [0.2222222222222222, \"#7201a8\"], [0.3333333333333333, \"#9c179e\"], [0.4444444444444444, \"#bd3786\"], [0.5555555555555556, \"#d8576b\"], [0.6666666666666666, \"#ed7953\"], [0.7777777777777778, \"#fb9f3a\"], [0.8888888888888888, \"#fdca26\"], [1.0, \"#f0f921\"]], \"type\": \"heatmap\"}], \"heatmapgl\": [{\"colorbar\": {\"outlinewidth\": 0, \"ticks\": \"\"}, \"colorscale\": [[0.0, \"#0d0887\"], [0.1111111111111111, \"#46039f\"], [0.2222222222222222, \"#7201a8\"], [0.3333333333333333, \"#9c179e\"], [0.4444444444444444, \"#bd3786\"], [0.5555555555555556, \"#d8576b\"], [0.6666666666666666, \"#ed7953\"], [0.7777777777777778, \"#fb9f3a\"], [0.8888888888888888, \"#fdca26\"], [1.0, \"#f0f921\"]], \"type\": \"heatmapgl\"}], \"histogram\": [{\"marker\": {\"colorbar\": {\"outlinewidth\": 0, \"ticks\": \"\"}}, \"type\": \"histogram\"}], \"histogram2d\": [{\"colorbar\": {\"outlinewidth\": 0, \"ticks\": \"\"}, \"colorscale\": [[0.0, \"#0d0887\"], [0.1111111111111111, \"#46039f\"], [0.2222222222222222, \"#7201a8\"], [0.3333333333333333, \"#9c179e\"], [0.4444444444444444, \"#bd3786\"], [0.5555555555555556, \"#d8576b\"], [0.6666666666666666, \"#ed7953\"], [0.7777777777777778, \"#fb9f3a\"], [0.8888888888888888, \"#fdca26\"], [1.0, \"#f0f921\"]], \"type\": \"histogram2d\"}], \"histogram2dcontour\": [{\"colorbar\": {\"outlinewidth\": 0, \"ticks\": \"\"}, \"colorscale\": [[0.0, \"#0d0887\"], [0.1111111111111111, \"#46039f\"], [0.2222222222222222, \"#7201a8\"], [0.3333333333333333, \"#9c179e\"], [0.4444444444444444, \"#bd3786\"], [0.5555555555555556, \"#d8576b\"], [0.6666666666666666, \"#ed7953\"], [0.7777777777777778, \"#fb9f3a\"], [0.8888888888888888, \"#fdca26\"], [1.0, \"#f0f921\"]], \"type\": \"histogram2dcontour\"}], \"mesh3d\": [{\"colorbar\": {\"outlinewidth\": 0, \"ticks\": \"\"}, \"type\": \"mesh3d\"}], \"parcoords\": [{\"line\": {\"colorbar\": {\"outlinewidth\": 0, \"ticks\": \"\"}}, \"type\": \"parcoords\"}], \"pie\": [{\"automargin\": true, \"type\": \"pie\"}], \"scatter\": [{\"marker\": {\"colorbar\": {\"outlinewidth\": 0, \"ticks\": \"\"}}, \"type\": \"scatter\"}], \"scatter3d\": [{\"line\": {\"colorbar\": {\"outlinewidth\": 0, \"ticks\": \"\"}}, \"marker\": {\"colorbar\": {\"outlinewidth\": 0, \"ticks\": \"\"}}, \"type\": \"scatter3d\"}], \"scattercarpet\": [{\"marker\": {\"colorbar\": {\"outlinewidth\": 0, \"ticks\": \"\"}}, \"type\": \"scattercarpet\"}], \"scattergeo\": [{\"marker\": {\"colorbar\": {\"outlinewidth\": 0, \"ticks\": \"\"}}, \"type\": \"scattergeo\"}], \"scattergl\": [{\"marker\": {\"colorbar\": {\"outlinewidth\": 0, \"ticks\": \"\"}}, \"type\": \"scattergl\"}], \"scattermapbox\": [{\"marker\": {\"colorbar\": {\"outlinewidth\": 0, \"ticks\": \"\"}}, \"type\": \"scattermapbox\"}], \"scatterpolar\": [{\"marker\": {\"colorbar\": {\"outlinewidth\": 0, \"ticks\": \"\"}}, \"type\": \"scatterpolar\"}], \"scatterpolargl\": [{\"marker\": {\"colorbar\": {\"outlinewidth\": 0, \"ticks\": \"\"}}, \"type\": \"scatterpolargl\"}], \"scatterternary\": [{\"marker\": {\"colorbar\": {\"outlinewidth\": 0, \"ticks\": \"\"}}, \"type\": \"scatterternary\"}], \"surface\": [{\"colorbar\": {\"outlinewidth\": 0, \"ticks\": \"\"}, \"colorscale\": [[0.0, \"#0d0887\"], [0.1111111111111111, \"#46039f\"], [0.2222222222222222, \"#7201a8\"], [0.3333333333333333, \"#9c179e\"], [0.4444444444444444, \"#bd3786\"], [0.5555555555555556, \"#d8576b\"], [0.6666666666666666, \"#ed7953\"], [0.7777777777777778, \"#fb9f3a\"], [0.8888888888888888, \"#fdca26\"], [1.0, \"#f0f921\"]], \"type\": \"surface\"}], \"table\": [{\"cells\": {\"fill\": {\"color\": \"#EBF0F8\"}, \"line\": {\"color\": \"white\"}}, \"header\": {\"fill\": {\"color\": \"#C8D4E3\"}, \"line\": {\"color\": \"white\"}}, \"type\": \"table\"}]}, \"layout\": {\"annotationdefaults\": {\"arrowcolor\": \"#2a3f5f\", \"arrowhead\": 0, \"arrowwidth\": 1}, \"autotypenumbers\": \"strict\", \"coloraxis\": {\"colorbar\": {\"outlinewidth\": 0, \"ticks\": \"\"}}, \"colorscale\": {\"diverging\": [[0, \"#8e0152\"], [0.1, \"#c51b7d\"], [0.2, \"#de77ae\"], [0.3, \"#f1b6da\"], [0.4, \"#fde0ef\"], [0.5, \"#f7f7f7\"], [0.6, \"#e6f5d0\"], [0.7, \"#b8e186\"], [0.8, \"#7fbc41\"], [0.9, \"#4d9221\"], [1, \"#276419\"]], \"sequential\": [[0.0, \"#0d0887\"], [0.1111111111111111, \"#46039f\"], [0.2222222222222222, \"#7201a8\"], [0.3333333333333333, \"#9c179e\"], [0.4444444444444444, \"#bd3786\"], [0.5555555555555556, \"#d8576b\"], [0.6666666666666666, \"#ed7953\"], [0.7777777777777778, \"#fb9f3a\"], [0.8888888888888888, \"#fdca26\"], [1.0, \"#f0f921\"]], \"sequentialminus\": [[0.0, \"#0d0887\"], [0.1111111111111111, \"#46039f\"], [0.2222222222222222, \"#7201a8\"], [0.3333333333333333, \"#9c179e\"], [0.4444444444444444, \"#bd3786\"], [0.5555555555555556, \"#d8576b\"], [0.6666666666666666, \"#ed7953\"], [0.7777777777777778, \"#fb9f3a\"], [0.8888888888888888, \"#fdca26\"], [1.0, \"#f0f921\"]]}, \"colorway\": [\"#636efa\", \"#EF553B\", \"#00cc96\", \"#ab63fa\", \"#FFA15A\", \"#19d3f3\", \"#FF6692\", \"#B6E880\", \"#FF97FF\", \"#FECB52\"], \"font\": {\"color\": \"#2a3f5f\"}, \"geo\": {\"bgcolor\": \"white\", \"lakecolor\": \"white\", \"landcolor\": \"#E5ECF6\", \"showlakes\": true, \"showland\": true, \"subunitcolor\": \"white\"}, \"hoverlabel\": {\"align\": \"left\"}, \"hovermode\": \"closest\", \"mapbox\": {\"style\": \"light\"}, \"paper_bgcolor\": \"white\", \"plot_bgcolor\": \"#E5ECF6\", \"polar\": {\"angularaxis\": {\"gridcolor\": \"white\", \"linecolor\": \"white\", \"ticks\": \"\"}, \"bgcolor\": \"#E5ECF6\", \"radialaxis\": {\"gridcolor\": \"white\", \"linecolor\": \"white\", \"ticks\": \"\"}}, \"scene\": {\"xaxis\": {\"backgroundcolor\": \"#E5ECF6\", \"gridcolor\": \"white\", \"gridwidth\": 2, \"linecolor\": \"white\", \"showbackground\": true, \"ticks\": \"\", \"zerolinecolor\": \"white\"}, \"yaxis\": {\"backgroundcolor\": \"#E5ECF6\", \"gridcolor\": \"white\", \"gridwidth\": 2, \"linecolor\": \"white\", \"showbackground\": true, \"ticks\": \"\", \"zerolinecolor\": \"white\"}, \"zaxis\": {\"backgroundcolor\": \"#E5ECF6\", \"gridcolor\": \"white\", \"gridwidth\": 2, \"linecolor\": \"white\", \"showbackground\": true, \"ticks\": \"\", \"zerolinecolor\": \"white\"}}, \"shapedefaults\": {\"line\": {\"color\": \"#2a3f5f\"}}, \"ternary\": {\"aaxis\": {\"gridcolor\": \"white\", \"linecolor\": \"white\", \"ticks\": \"\"}, \"baxis\": {\"gridcolor\": \"white\", \"linecolor\": \"white\", \"ticks\": \"\"}, \"bgcolor\": \"#E5ECF6\", \"caxis\": {\"gridcolor\": \"white\", \"linecolor\": \"white\", \"ticks\": \"\"}}, \"title\": {\"x\": 0.05}, \"xaxis\": {\"automargin\": true, \"gridcolor\": \"white\", \"linecolor\": \"white\", \"ticks\": \"\", \"title\": {\"standoff\": 15}, \"zerolinecolor\": \"white\", \"zerolinewidth\": 2}, \"yaxis\": {\"automargin\": true, \"gridcolor\": \"white\", \"linecolor\": \"white\", \"ticks\": \"\", \"title\": {\"standoff\": 15}, \"zerolinecolor\": \"white\", \"zerolinewidth\": 2}}}, \"title\": {\"text\": \"Accelerometer Reading (Z Axis ) V/S Time\"}, \"xaxis\": {\"title\": {\"text\": \"Time\"}}, \"yaxis\": {\"title\": {\"text\": \"Accelerometer\"}}},                        {\"responsive\": true}                    ).then(function(){\n",
       "                            \n",
       "var gd = document.getElementById('f62ba24e-d4f6-4c56-8dcf-3ce32c7b1d98');\n",
       "var x = new MutationObserver(function (mutations, observer) {{\n",
       "        var display = window.getComputedStyle(gd).display;\n",
       "        if (!display || display === 'none') {{\n",
       "            console.log([gd, 'removed!']);\n",
       "            Plotly.purge(gd);\n",
       "            observer.disconnect();\n",
       "        }}\n",
       "}});\n",
       "\n",
       "// Listen for the removal of the full notebook cells\n",
       "var notebookContainer = gd.closest('#notebook-container');\n",
       "if (notebookContainer) {{\n",
       "    x.observe(notebookContainer, {childList: true});\n",
       "}}\n",
       "\n",
       "// Listen for the clearing of the current output cell\n",
       "var outputEl = gd.closest('.output');\n",
       "if (outputEl) {{\n",
       "    x.observe(outputEl, {childList: true});\n",
       "}}\n",
       "\n",
       "                        })                };                });            </script>        </div>"
      ]
     },
     "metadata": {},
     "output_type": "display_data"
    }
   ],
   "source": [
    "import numpy as np\n",
    "import plotly.graph_objects as go\n",
    "\n",
    "y = df[\"z\"]\n",
    "x= df[\"index\"]\n",
    "layout = go.Layout(\n",
    "   title = \"Accelerometer Reading (Z Axis ) V/S Time\",\n",
    "   xaxis_title = \"Time\",\n",
    "   yaxis_title = \"Accelerometer\"\n",
    ")\n",
    "fig = go.Figure(data=go.Scatter(x = x, y = y),layout = layout)\n",
    "fig.add_shape(\n",
    "        type='line',\n",
    "        x0=0,\n",
    "        y0=(0.4*9.81),\n",
    "        x1=len(df[\"index\"]),\n",
    "        y1=(0.4*9.81),\n",
    "        line=dict(\n",
    "            color='Red',\n",
    "        )\n",
    ")\n",
    "\n",
    "fig.add_trace(go.Scatter(x=index_pothole, y=plot_z_final,\n",
    "                    mode='lines+markers',\n",
    "                    name='Pothole Detected'))\n",
    "\n",
    "\n",
    "fig.show()\n"
   ]
  },
  {
   "cell_type": "code",
   "execution_count": null,
   "id": "biblical-danger",
   "metadata": {},
   "outputs": [],
   "source": []
  }
 ],
 "metadata": {
  "kernelspec": {
   "display_name": "Python 3",
   "language": "python",
   "name": "python3"
  },
  "language_info": {
   "codemirror_mode": {
    "name": "ipython",
    "version": 3
   },
   "file_extension": ".py",
   "mimetype": "text/x-python",
   "name": "python",
   "nbconvert_exporter": "python",
   "pygments_lexer": "ipython3",
   "version": "3.9.5"
  }
 },
 "nbformat": 4,
 "nbformat_minor": 5
}
