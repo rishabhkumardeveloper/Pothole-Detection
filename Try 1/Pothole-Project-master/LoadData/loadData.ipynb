{
 "cells": [
  {
   "cell_type": "code",
   "execution_count": 1,
   "metadata": {},
   "outputs": [],
   "source": [
    "import pandas as pd\n",
    "import numpy as np\n",
    "import os\n",
    "from loadData import LoadData\n",
    "\n",
    "ld_ob = LoadData()"
   ]
  },
  {
   "cell_type": "code",
   "execution_count": 2,
   "metadata": {},
   "outputs": [
    {
     "name": "stdout",
     "output_type": "stream",
     "text": [
      "../data/plain_road_unmarked_sb/\n",
      "['1.csv', '2.csv', '3.csv']\n"
     ]
    },
    {
     "data": {
      "text/html": [
       "<div>\n",
       "<style scoped>\n",
       "    .dataframe tbody tr th:only-of-type {\n",
       "        vertical-align: middle;\n",
       "    }\n",
       "\n",
       "    .dataframe tbody tr th {\n",
       "        vertical-align: top;\n",
       "    }\n",
       "\n",
       "    .dataframe thead th {\n",
       "        text-align: right;\n",
       "    }\n",
       "</style>\n",
       "<table border=\"1\" class=\"dataframe\">\n",
       "  <thead>\n",
       "    <tr style=\"text-align: right;\">\n",
       "      <th></th>\n",
       "      <th>Time</th>\n",
       "      <th>Gx</th>\n",
       "      <th>Gy</th>\n",
       "      <th>Gz</th>\n",
       "      <th>Ax</th>\n",
       "      <th>Ay</th>\n",
       "      <th>Az</th>\n",
       "    </tr>\n",
       "  </thead>\n",
       "  <tbody>\n",
       "    <tr>\n",
       "      <th>0</th>\n",
       "      <td>0.000</td>\n",
       "      <td>-0.396973</td>\n",
       "      <td>0.077316</td>\n",
       "      <td>-0.144104</td>\n",
       "      <td>0.000000</td>\n",
       "      <td>0.000000</td>\n",
       "      <td>0.000000</td>\n",
       "    </tr>\n",
       "    <tr>\n",
       "      <th>1</th>\n",
       "      <td>0.001</td>\n",
       "      <td>-0.396973</td>\n",
       "      <td>0.077316</td>\n",
       "      <td>-0.144104</td>\n",
       "      <td>-0.147995</td>\n",
       "      <td>2.161942</td>\n",
       "      <td>8.830063</td>\n",
       "    </tr>\n",
       "    <tr>\n",
       "      <th>2</th>\n",
       "      <td>0.002</td>\n",
       "      <td>-0.396973</td>\n",
       "      <td>0.077316</td>\n",
       "      <td>-0.144104</td>\n",
       "      <td>-0.092957</td>\n",
       "      <td>2.117676</td>\n",
       "      <td>8.396957</td>\n",
       "    </tr>\n",
       "    <tr>\n",
       "      <th>3</th>\n",
       "      <td>0.003</td>\n",
       "      <td>-0.396973</td>\n",
       "      <td>0.077316</td>\n",
       "      <td>-0.144104</td>\n",
       "      <td>1.004166</td>\n",
       "      <td>1.696533</td>\n",
       "      <td>8.174423</td>\n",
       "    </tr>\n",
       "    <tr>\n",
       "      <th>4</th>\n",
       "      <td>0.004</td>\n",
       "      <td>-0.396973</td>\n",
       "      <td>0.077316</td>\n",
       "      <td>-0.144104</td>\n",
       "      <td>2.259201</td>\n",
       "      <td>1.240707</td>\n",
       "      <td>7.460175</td>\n",
       "    </tr>\n",
       "  </tbody>\n",
       "</table>\n",
       "</div>"
      ],
      "text/plain": [
       "    Time        Gx        Gy        Gz        Ax        Ay        Az\n",
       "0  0.000 -0.396973  0.077316 -0.144104  0.000000  0.000000  0.000000\n",
       "1  0.001 -0.396973  0.077316 -0.144104 -0.147995  2.161942  8.830063\n",
       "2  0.002 -0.396973  0.077316 -0.144104 -0.092957  2.117676  8.396957\n",
       "3  0.003 -0.396973  0.077316 -0.144104  1.004166  1.696533  8.174423\n",
       "4  0.004 -0.396973  0.077316 -0.144104  2.259201  1.240707  7.460175"
      ]
     },
     "execution_count": 2,
     "metadata": {},
     "output_type": "execute_result"
    }
   ],
   "source": [
    "df = ld_ob.loadData('plain_road_unmarked_sb')\n",
    "df.head()"
   ]
  }
 ],
 "metadata": {
  "kernelspec": {
   "display_name": "Python 3",
   "language": "python",
   "name": "python3"
  },
  "language_info": {
   "codemirror_mode": {
    "name": "ipython",
    "version": 3
   },
   "file_extension": ".py",
   "mimetype": "text/x-python",
   "name": "python",
   "nbconvert_exporter": "python",
   "pygments_lexer": "ipython3",
   "version": "3.6.8"
  },
  "varInspector": {
   "cols": {
    "lenName": 16,
    "lenType": 16,
    "lenVar": 40
   },
   "kernels_config": {
    "python": {
     "delete_cmd_postfix": "",
     "delete_cmd_prefix": "del ",
     "library": "var_list.py",
     "varRefreshCmd": "print(var_dic_list())"
    },
    "r": {
     "delete_cmd_postfix": ") ",
     "delete_cmd_prefix": "rm(",
     "library": "var_list.r",
     "varRefreshCmd": "cat(var_dic_list()) "
    }
   },
   "types_to_exclude": [
    "module",
    "function",
    "builtin_function_or_method",
    "instance",
    "_Feature"
   ],
   "window_display": false
  }
 },
 "nbformat": 4,
 "nbformat_minor": 2
}
